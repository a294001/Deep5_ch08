{
 "cells": [
  {
   "cell_type": "markdown",
   "id": "701cff9f",
   "metadata": {},
   "source": [
    "$$\n",
    "\\begin{align*}\n",
    "\\bm{\\mu}_q(\\bm{x}_t, \\bm{x}_0)\n",
    "&= \\frac{\n",
    "\\sqrt{ \\alpha_t }(1 - \\bar{\\alpha}_{t-1}) \\bm{x}_t \n",
    "+ \\sqrt{\\bar{\\alpha}_{t-1}} (1 - \\alpha_t)\n",
    "\\cdot \\frac{ \\bm{x}_t - \\sqrt{1 - \\bar{\\alpha}_t} \\, \\bm{\\epsilon} }{ \\sqrt{ \\bar{\\alpha}_t } }\n",
    "}{\n",
    "1 - \\bar{\\alpha}_t\n",
    "} \\\\[1em]\n",
    "\n",
    "&= \\frac{1}{1 - \\bar{\\alpha}_t} \\left[\n",
    "\\sqrt{ \\alpha_t }(1 - \\bar{\\alpha}_{t-1}) \\bm{x}_t \n",
    "+ \\frac{ \\sqrt{ \\bar{\\alpha}_{t-1} } (1 - \\alpha_t) }{ \\sqrt{ \\bar{\\alpha}_t } } \\bm{x}_t\n",
    "- \\frac{ \\sqrt{ \\bar{\\alpha}_{t-1} } (1 - \\alpha_t) \\sqrt{ 1 - \\bar{\\alpha}_t } }{ \\sqrt{ \\bar{\\alpha}_t } } \\bm{\\epsilon}\n",
    "\\right]\n",
    "\\end{align*}\n",
    "$$"
   ]
  },
  {
   "cell_type": "markdown",
   "id": "aea91de8",
   "metadata": {},
   "source": [
    "$$\n",
    "\\begin{align*}\n",
    "\\bm{\\mu}_q(\\bm{x}_t, \\bm{x}_0)\n",
    "&= \\frac{1}{1 - \\bar{\\alpha}_t} \\left[\n",
    "\\bm{x}_t \\left(\n",
    "\\sqrt{ \\alpha_t }(1 - \\bar{\\alpha}_{t-1})\n",
    "+ \\frac{ \\sqrt{ \\bar{\\alpha}_{t-1} } (1 - \\alpha_t) }{ \\sqrt{ \\bar{\\alpha}_t } }\n",
    "\\right)\n",
    "- \\bm{\\epsilon} \\cdot\n",
    "\\frac{ \\sqrt{ \\bar{\\alpha}_{t-1} } (1 - \\alpha_t) \\sqrt{ 1 - \\bar{\\alpha}_t } }{ \\sqrt{ \\bar{\\alpha}_t } }\n",
    "\\right]\n",
    "\\end{align*}\n",
    "$$"
   ]
  }
 ],
 "metadata": {
  "kernelspec": {
   "display_name": "base",
   "language": "python",
   "name": "python3"
  },
  "language_info": {
   "name": "python",
   "version": "3.10.14"
  }
 },
 "nbformat": 4,
 "nbformat_minor": 5
}
